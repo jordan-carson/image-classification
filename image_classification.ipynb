{
 "cells": [
  {
   "cell_type": "markdown",
   "metadata": {
    "collapsed": true
   },
   "source": [
    "# Image Classification\n",
    "In this project, you'll classify images from the [CIFAR-10 dataset](https://www.cs.toronto.edu/~kriz/cifar.html).  The dataset consists of airplanes, dogs, cats, and other objects. You'll preprocess the images, then train a convolutional neural network on all the samples. The images need to be normalized and the labels need to be one-hot encoded.  You'll get to apply what you learned and build a convolutional, max pooling, dropout, and fully connected layers.  At the end, you'll get to see your neural network's predictions on the sample images.\n",
    "## Get the Data\n",
    "Run the following cell to download the [CIFAR-10 dataset for python](https://www.cs.toronto.edu/~kriz/cifar-10-python.tar.gz)."
   ]
  },
  {
   "cell_type": "code",
   "execution_count": 1,
   "metadata": {
    "collapsed": false
   },
   "outputs": [
    {
     "name": "stdout",
     "output_type": "stream",
     "text": [
      "All files found!\n"
     ]
    }
   ],
   "source": [
    "\"\"\"\n",
    "DON'T MODIFY ANYTHING IN THIS CELL THAT IS BELOW THIS LINE\n",
    "\"\"\"\n",
    "from urllib.request import urlretrieve\n",
    "from os.path import isfile, isdir\n",
    "from tqdm import tqdm\n",
    "import problem_unittests as tests\n",
    "import tarfile\n",
    "\n",
    "cifar10_dataset_folder_path = 'cifar-10-batches-py'\n",
    "\n",
    "class DLProgress(tqdm):\n",
    "    last_block = 0\n",
    "\n",
    "    def hook(self, block_num=1, block_size=1, total_size=None):\n",
    "        self.total = total_size\n",
    "        self.update((block_num - self.last_block) * block_size)\n",
    "        self.last_block = block_num\n",
    "\n",
    "if not isfile('cifar-10-python.tar.gz'):\n",
    "    with DLProgress(unit='B', unit_scale=True, miniters=1, desc='CIFAR-10 Dataset') as pbar:\n",
    "        urlretrieve(\n",
    "            'https://www.cs.toronto.edu/~kriz/cifar-10-python.tar.gz',\n",
    "            'cifar-10-python.tar.gz',\n",
    "            pbar.hook)\n",
    "\n",
    "if not isdir(cifar10_dataset_folder_path):\n",
    "    with tarfile.open('cifar-10-python.tar.gz') as tar:\n",
    "        tar.extractall()\n",
    "        tar.close()\n",
    "\n",
    "\n",
    "tests.test_folder_path(cifar10_dataset_folder_path)"
   ]
  },
  {
   "cell_type": "markdown",
   "metadata": {},
   "source": [
    "## Explore the Data\n",
    "The dataset is broken into batches to prevent your machine from running out of memory.  The CIFAR-10 dataset consists of 5 batches, named `data_batch_1`, `data_batch_2`, etc.. Each batch contains the labels and images that are one of the following:\n",
    "* airplane\n",
    "* automobile\n",
    "* bird\n",
    "* cat\n",
    "* deer\n",
    "* dog\n",
    "* frog\n",
    "* horse\n",
    "* ship\n",
    "* truck\n",
    "\n",
    "Understanding a dataset is part of making predictions on the data.  Play around with the code cell below by changing the `batch_id` and `sample_id`. The `batch_id` is the id for a batch (1-5). The `sample_id` is the id for a image and label pair in the batch.\n",
    "\n",
    "Ask yourself \"What are all possible labels?\", \"What is the range of values for the image data?\", \"Are the labels in order or random?\".  Answers to questions like these will help you preprocess the data and end up with better predictions."
   ]
  },
  {
   "cell_type": "code",
   "execution_count": 2,
   "metadata": {
    "collapsed": false
   },
   "outputs": [
    {
     "name": "stdout",
     "output_type": "stream",
     "text": [
      "\n",
      "Stats of batch 1:\n",
      "Samples: 10000\n",
      "Label Counts: {0: 1005, 1: 974, 2: 1032, 3: 1016, 4: 999, 5: 937, 6: 1030, 7: 1001, 8: 1025, 9: 981}\n",
      "First 20 Labels: [6, 9, 9, 4, 1, 1, 2, 7, 8, 3, 4, 7, 7, 2, 9, 9, 9, 3, 2, 6]\n",
      "\n",
      "Example of Image 5:\n",
      "Image - Min Value: 0 Max Value: 252\n",
      "Image - Shape: (32, 32, 3)\n",
      "Label - Label Id: 1 Name: automobile\n"
     ]
    },
    {
     "data": {
      "image/png": "[encoded data removed]",
      "text/plain": [
       "<matplotlib.figure.Figure at 0x11418d9e8>"
      ]
     },
     "metadata": {
      "image/png": {
       "height": 250,
       "width": 253
      }
     },
     "output_type": "display_data"
    }
   ],
   "source": [
    "#params\n",
    "\n",
    "%matplotlib inline\n",
    "%config InlineBackend.figure_format = 'retina'\n",
    "\n",
    "import helper\n",
    "import numpy as np\n",
    "#cifar10_dataset_folder_path = \"/Users/jordancarson/Downloads/machine-learning-master 5/projects/image-classification/cifar-10-batches-py\"\n",
    "# Explore the dataset\n",
    "batch_id = 1\n",
    "sample_id = 5\n",
    "helper.display_stats(cifar10_dataset_folder_path, batch_id, sample_id)"
   ]
  },
  {
   "cell_type": "markdown",
   "metadata": {},
   "source": [
    "## Implement Preprocess Functions\n",
    "### Normalize\n",
    "In the cell below, implement the `normalize` function to take in image data, `x`, and return it as a normalized Numpy array. The values should be in the range of 0 to 1, inclusive.  The return object should be the same shape as `x`."
   ]
  },
  {
   "cell_type": "code",
   "execution_count": 3,
   "metadata": {
    "collapsed": false
   },
   "outputs": [
    {
     "name": "stdout",
     "output_type": "stream",
     "text": [
      "Tests Passed\n"
     ]
    }
   ],
   "source": [
    "def normalize(x):\n",
    "    \"\"\"\n",
    "    Normalize a list of sample image data in the range of 0 to 1\n",
    "    : x: List of image data.  The image shape is (32, 32, 3)\n",
    "    : return: Numpy array of normalize data\n",
    "    \"\"\"\n",
    "\n",
    "    return x / 255\n",
    "\n",
    "\n",
    "\"\"\"\n",
    "DON'T MODIFY ANYTHING IN THIS CELL THAT IS BELOW THIS LINE\n",
    "\"\"\"\n",
    "tests.test_normalize(normalize)"
   ]
  },
  {
   "cell_type": "markdown",
   "metadata": {},
   "source": [
    "### One-hot encode\n",
    "Just like the previous code cell, you'll be implementing a function for preprocessing.  This time, you'll implement the `one_hot_encode` function. The input, `x`, are a list of labels.  Implement the function to return the list of labels as One-Hot encoded Numpy array.  The possible values for labels are 0 to 9. The one-hot encoding function should return the same encoding for each value between each call to `one_hot_encode`.  Make sure to save the map of encodings outside the function.\n",
    "\n",
    "**Hint:**\n",
    "\n",
    "Look into LabelBinarizer in the preprocessing module of sklearn."
   ]
  },
  {
   "cell_type": "code",
   "execution_count": 4,
   "metadata": {
    "collapsed": false
   },
   "outputs": [
    {
     "name": "stdout",
     "output_type": "stream",
     "text": [
      "Tests Passed\n"
     ]
    }
   ],
   "source": [
    "def one_hot_encode(x):\n",
    "    \"\"\"\n",
    "    One hot encode a list of sample labels. Return a one-hot encoded vector for each label.\n",
    "    : x: List of sample Labels\n",
    "    : return: Numpy array of one-hot encoded labels\n",
    "    \"\"\"\n",
    "    \n",
    "    # TODO: Implement Function\n",
    "    return np.eye(10)[x]\n",
    "one_hot_map = {}\n",
    "def one_hot_encode_helper(x):\n",
    "    if x in one_hot_map:\n",
    "        return one_hot_map[x]\n",
    "    result = np.zeros(10)\n",
    "    result[x] = 0\n",
    "    one_hot_map[x] = result\n",
    "    return result\n",
    "\n",
    "\"\"\"\n",
    "DON'T MODIFY ANYTHING IN THIS CELL THAT IS BELOW THIS LINE\n",
    "\"\"\"\n",
    "tests.test_one_hot_encode(one_hot_encode)"
   ]
  },
  {
   "cell_type": "markdown",
   "metadata": {},
   "source": [
    "### Randomize Data\n",
    "As you saw from exploring the data above, the order of the samples are randomized.  It doesn't hurt to randomize it again, but you don't need to for this dataset."
   ]
  },
  {
   "cell_type": "markdown",
   "metadata": {},
   "source": [
    "## Preprocess all the data and save it\n",
    "Running the code cell below will preprocess all the CIFAR-10 data and save it to file. The code below also uses 10% of the training data for validation."
   ]
  },
  {
   "cell_type": "code",
   "execution_count": 5,
   "metadata": {
    "collapsed": false
   },
   "outputs": [],
   "source": [
    "\"\"\"\n",
    "DON'T MODIFY ANYTHING IN THIS CELL\n",
    "\"\"\"\n",
    "# Preprocess Training, Validation, and Testing Data\n",
    "helper.preprocess_and_save_data(cifar10_dataset_folder_path, normalize, one_hot_encode)"
   ]
  },
  {
   "cell_type": "markdown",
   "metadata": {},
   "source": [
    "# Check Point\n",
    "This is your first checkpoint.  If you ever decide to come back to this notebook or have to restart the notebook, you can start from here.  The preprocessed data has been saved to disk."
   ]
  },
  {
   "cell_type": "code",
   "execution_count": 6,
   "metadata": {
    "collapsed": true
   },
   "outputs": [],
   "source": [
    "\"\"\"\n",
    "DON'T MODIFY ANYTHING IN THIS CELL\n",
    "\"\"\"\n",
    "import pickle\n",
    "import problem_unittests as tests\n",
    "import helper\n",
    "\n",
    "# Load the Preprocessed Validation data\n",
    "valid_features, valid_labels = pickle.load(open('preprocess_validation.p', mode='rb'))"
   ]
  },
  {
   "cell_type": "markdown",
   "metadata": {},
   "source": [
    "## Build the network\n",
    "For the neural network, you'll build each layer into a function.  Most of the code you've seen has been outside of functions. To test your code more thoroughly, we require that you put each layer in a function.  This allows us to give you better feedback and test for simple mistakes using our unittests before you submit your project.\n",
    "\n",
    ">**Note:** If you're finding it hard to dedicate enough time for this course each week, we've provided a small shortcut to this part of the project. In the next couple of problems, you'll have the option to use classes from the [TensorFlow Layers](https://www.tensorflow.org/api_docs/python/tf/layers) or [TensorFlow Layers (contrib)](https://www.tensorflow.org/api_guides/python/contrib.layers) packages to build each layer, except the layers you build in the \"Convolutional and Max Pooling Layer\" section.  TF Layers is similar to Keras's and TFLearn's abstraction to layers, so it's easy to pickup.\n",
    "\n",
    ">However, if you would like to get the most out of this course, try to solve all the problems _without_ using anything from the TF Layers packages. You **can** still use classes from other packages that happen to have the same name as ones you find in TF Layers! For example, instead of using the TF Layers version of the `conv2d` class, [tf.layers.conv2d](https://www.tensorflow.org/api_docs/python/tf/layers/conv2d), you would want to use the TF Neural Network version of `conv2d`, [tf.nn.conv2d](https://www.tensorflow.org/api_docs/python/tf/nn/conv2d). \n",
    "\n",
    "Let's begin!\n",
    "\n",
    "### Input\n",
    "The neural network needs to read the image data, one-hot encoded labels, and dropout keep probability. Implement the following functions\n",
    "* Implement `neural_net_image_input`\n",
    " * Return a [TF Placeholder](https://www.tensorflow.org/api_docs/python/tf/placeholder)\n",
    " * Set the shape using `image_shape` with batch size set to `None`.\n",
    " * Name the TensorFlow placeholder \"x\" using the TensorFlow `name` parameter in the [TF Placeholder](https://www.tensorflow.org/api_docs/python/tf/placeholder).\n",
    "* Implement `neural_net_label_input`\n",
    " * Return a [TF Placeholder](https://www.tensorflow.org/api_docs/python/tf/placeholder)\n",
    " * Set the shape using `n_classes` with batch size set to `None`.\n",
    " * Name the TensorFlow placeholder \"y\" using the TensorFlow `name` parameter in the [TF Placeholder](https://www.tensorflow.org/api_docs/python/tf/placeholder).\n",
    "* Implement `neural_net_keep_prob_input`\n",
    " * Return a [TF Placeholder](https://www.tensorflow.org/api_docs/python/tf/placeholder) for dropout keep probability.\n",
    " * Name the TensorFlow placeholder \"keep_prob\" using the TensorFlow `name` parameter in the [TF Placeholder](https://www.tensorflow.org/api_docs/python/tf/placeholder).\n",
    "\n",
    "These names will be used at the end of the project to load your saved model.\n",
    "\n",
    "Note: `None` for shapes in TensorFlow allow for a dynamic size."
   ]
  },
  {
   "cell_type": "code",
   "execution_count": 7,
   "metadata": {
    "collapsed": false
   },
   "outputs": [
    {
     "name": "stdout",
     "output_type": "stream",
     "text": [
      "Image Input Tests Passed.\n",
      "Label Input Tests Passed.\n",
      "Keep Prob Tests Passed.\n"
     ]
    }
   ],
   "source": [
    "import tensorflow as tf\n",
    "\n",
    "def neural_net_image_input(image_shape):\n",
    "    \"\"\"\n",
    "    Return a Tensor for a batch of image input\n",
    "    : image_shape: Shape of the images\n",
    "    : return: Tensor for image input.\n",
    "    \"\"\"\n",
    "    return tf.placeholder(tf.float32, [None, image_shape[0],image_shape[1],image_shape[2]], name='x')\n",
    "\n",
    "\n",
    "def neural_net_label_input(n_classes):\n",
    "    \"\"\"\n",
    "    Return a Tensor for a batch of label input\n",
    "    : n_classes: Number of classes\n",
    "    : return: Tensor for label input.\n",
    "    \"\"\"\n",
    "    # TODO: Implement Function\n",
    "    return tf.placeholder(tf.float32, [None, n_classes], name='y')\n",
    "\n",
    "\n",
    "def neural_net_keep_prob_input():\n",
    "    \"\"\"\n",
    "    Return a Tensor for keep probability\n",
    "    : return: Tensor for keep probability.\n",
    "    \"\"\"\n",
    "    # TODO: Implement Function\n",
    "    return tf.placeholder(tf.float32, name='keep_prob')\n",
    "\n",
    "\n",
    "\"\"\"\n",
    "DON'T MODIFY ANYTHING IN THIS CELL THAT IS BELOW THIS LINE\n",
    "\"\"\"\n",
    "tf.reset_default_graph()\n",
    "tests.test_nn_image_inputs(neural_net_image_input)\n",
    "tests.test_nn_label_inputs(neural_net_label_input)\n",
    "tests.test_nn_keep_prob_inputs(neural_net_keep_prob_input)"
   ]
  },
  {
   "cell_type": "markdown",
   "metadata": {},
   "source": [
    "### Convolution and Max Pooling Layer\n",
    "Convolution layers have a lot of success with images. For this code cell, you should implement the function `conv2d_maxpool` to apply convolution then max pooling:\n",
    "* Create the weight and bias using `conv_ksize`, `conv_num_outputs` and the shape of `x_tensor`.\n",
    "* Apply a convolution to `x_tensor` using weight and `conv_strides`.\n",
    " * We recommend you use same padding, but you're welcome to use any padding.\n",
    "* Add bias\n",
    "* Add a nonlinear activation to the convolution.\n",
    "* Apply Max Pooling using `pool_ksize` and `pool_strides`.\n",
    " * We recommend you use same padding, but you're welcome to use any padding.\n",
    "\n",
    "**Note:** You **can't** use [TensorFlow Layers](https://www.tensorflow.org/api_docs/python/tf/layers) or [TensorFlow Layers (contrib)](https://www.tensorflow.org/api_guides/python/contrib.layers) for **this** layer, but you can still use TensorFlow's [Neural Network](https://www.tensorflow.org/api_docs/python/tf/nn) package. You may still use the shortcut option for all the **other** layers.\n",
    "\n",
    "** Hint: **\n",
    "\n",
    "When unpacking values as an argument in Python, look into the [unpacking](https://docs.python.org/3/tutorial/controlflow.html#unpacking-argument-lists) operator. "
   ]
  },
  {
   "cell_type": "code",
   "execution_count": 19,
   "metadata": {
    "collapsed": false
   },
   "outputs": [
    {
     "name": "stdout",
     "output_type": "stream",
     "text": [
      "Tests Passed\n"
     ]
    }
   ],
   "source": [
    "def conv2d_maxpool(x_tensor, conv_num_outputs, conv_ksize, conv_strides, pool_ksize, pool_strides):\n",
    "    \"\"\"\n",
    "    Apply convolution then max pooling to x_tensor\n",
    "    :param x_tensor: TensorFlow Tensor\n",
    "    :param conv_num_outputs: Number of outputs for the convolutional layer\n",
    "    :param conv_ksize: kernal size 2-D Tuple for the convolutional layer\n",
    "    :param conv_strides: Stride 2-D Tuple for convolution\n",
    "    :param pool_ksize: kernal size 2-D Tuple for pool\n",
    "    :param pool_strides: Stride 2-D Tuple for pool\n",
    "    : return: A tensor that represents convolution and max pooling of x_tensor\n",
    "    \"\"\"\n",
    "    \n",
    "    #erroring out\n",
    "    #weight = tf.variable(tf.random_normal([conv_ksize[0],x_tensor.get_shape().as_list()[-1]\n",
    "    #                                       ,cov_num_outputs],stddev=0.1))\n",
    "    #conv_layer = tf.nn.conv2d(x_tensor, weight, strides=[1, conv_strides[0], conv_strides[1], 1], padding='SAME')\n",
    "    \n",
    "    weight = tf.Variable(tf.random_normal([conv_ksize[0], \n",
    "                                           conv_ksize[1], \n",
    "                                           x_tensor.get_shape().as_list()[3], \n",
    "                                           conv_num_outputs], stddev=0.1))\n",
    "    bias   = tf.Variable(tf.random_normal([conv_num_outputs], stddev=0.1))\n",
    "    x_tensor = tf.nn.conv2d(x_tensor, \n",
    "                            weight, \n",
    "                            [1, conv_strides[0], conv_strides[1], 1], \n",
    "                            padding='SAME') #see Valid for comparison\n",
    "    x_tensor = tf.nn.bias_add(x_tensor, bias)\n",
    "    x_tensor = tf.nn.relu(x_tensor)\n",
    "    x_tensor = tf.nn.max_pool(x_tensor, \n",
    "                              [1, pool_ksize[0], \n",
    "                               pool_ksize[1], 1],\n",
    "                              [1, pool_strides[0], pool_strides[1], 1], \n",
    "                              padding='SAME')\n",
    "    return x_tensor\n",
    "\n",
    "\n",
    "\"\"\"\n",
    "DON'T MODIFY ANYTHING IN THIS CELL THAT IS BELOW THIS LINE\n",
    "\"\"\"\n",
    "tests.test_con_pool(conv2d_maxpool)"
   ]
  },
  {
   "cell_type": "markdown",
   "metadata": {},
   "source": [
    "### Flatten Layer\n",
    "Implement the `flatten` function to change the dimension of `x_tensor` from a 4-D tensor to a 2-D tensor.  The output should be the shape (*Batch Size*, *Flattened Image Size*). Shortcut option: you can use classes from the [TensorFlow Layers](https://www.tensorflow.org/api_docs/python/tf/layers) or [TensorFlow Layers (contrib)](https://www.tensorflow.org/api_guides/python/contrib.layers) packages for this layer. For more of a challenge, only use other TensorFlow packages."
   ]
  },
  {
   "cell_type": "code",
   "execution_count": 9,
   "metadata": {
    "collapsed": false
   },
   "outputs": [
    {
     "name": "stdout",
     "output_type": "stream",
     "text": [
      "Tests Passed\n"
     ]
    }
   ],
   "source": [
    "def flatten(x_tensor):\n",
    "    \"\"\"\n",
    "    Flatten x_tensor to (Batch Size, Flattened Image Size)\n",
    "    : x_tensor: A tensor of size (Batch Size, ...), where ... are the image dimensions.\n",
    "    : return: A tensor of size (Batch Size, Flattened Image Size).\n",
    "    \"\"\"\n",
    "    # https://www.tensorflow.org/api_guides/python/contrib.layers\n",
    "    # implementing a flat tf.contrib.layer \n",
    "    \n",
    "    return tf.contrib.layers.flatten(x_tensor)\n",
    "\n",
    "\n",
    "\"\"\"\n",
    "DON'T MODIFY ANYTHING IN THIS CELL THAT IS BELOW THIS LINE\n",
    "\"\"\"\n",
    "tests.test_flatten(flatten)"
   ]
  },
  {
   "cell_type": "markdown",
   "metadata": {},
   "source": [
    "### Fully-Connected Layer\n",
    "Implement the `fully_conn` function to apply a fully connected layer to `x_tensor` with the shape (*Batch Size*, *num_outputs*). Shortcut option: you can use classes from the [TensorFlow Layers](https://www.tensorflow.org/api_docs/python/tf/layers) or [TensorFlow Layers (contrib)](https://www.tensorflow.org/api_guides/python/contrib.layers) packages for this layer. For more of a challenge, only use other TensorFlow packages."
   ]
  },
  {
   "cell_type": "code",
   "execution_count": 10,
   "metadata": {
    "collapsed": false
   },
   "outputs": [
    {
     "name": "stdout",
     "output_type": "stream",
     "text": [
      "Tests Passed\n"
     ]
    }
   ],
   "source": [
    "def fully_conn(x_tensor, num_outputs):\n",
    "    \"\"\"\n",
    "    Apply a fully connected layer to x_tensor using weight and bias\n",
    "    : x_tensor: A 2-D tensor where the first dimension is batch size.\n",
    "    : num_outputs: The number of output that the new tensor should be.\n",
    "    : return: A 2-D tensor where the second dimension is num_outputs.\n",
    "    \"\"\"\n",
    "    # TODO: Implement Function\n",
    "    \n",
    "    num_features = x_tensor.shape[1].value\n",
    "    weights = tf.Variable(tf.random_normal([num_features, num_outputs], \n",
    "                                           stddev=0.1))\n",
    "    biases = tf.Variable(tf.zeros([num_outputs]))\n",
    "    full_conn = tf.add(tf.matmul(x_tensor, weights), biases)\n",
    "    full_conn = tf.nn.relu(full_conn)\n",
    "    \n",
    "    return full_conn\n",
    "\n",
    "\n",
    "\"\"\"\n",
    "DON'T MODIFY ANYTHING IN THIS CELL THAT IS BELOW THIS LINE\n",
    "\"\"\"\n",
    "tests.test_fully_conn(fully_conn)"
   ]
  },
  {
   "cell_type": "markdown",
   "metadata": {},
   "source": [
    "### Output Layer\n",
    "Implement the `output` function to apply a fully connected layer to `x_tensor` with the shape (*Batch Size*, *num_outputs*). Shortcut option: you can use classes from the [TensorFlow Layers](https://www.tensorflow.org/api_docs/python/tf/layers) or [TensorFlow Layers (contrib)](https://www.tensorflow.org/api_guides/python/contrib.layers) packages for this layer. For more of a challenge, only use other TensorFlow packages.\n",
    "\n",
    "**Note:** Activation, softmax, or cross entropy should **not** be applied to this."
   ]
  },
  {
   "cell_type": "code",
   "execution_count": 11,
   "metadata": {
    "collapsed": false
   },
   "outputs": [
    {
     "name": "stdout",
     "output_type": "stream",
     "text": [
      "Tests Passed\n"
     ]
    }
   ],
   "source": [
    "def output(x_tensor, num_outputs):\n",
    "    \"\"\"\n",
    "    Apply a output layer to x_tensor using weight and bias\n",
    "    : x_tensor: A 2-D tensor where the first dimension is batch size.\n",
    "    : num_outputs: The number of output that the new tensor should be.\n",
    "    : return: A 2-D tensor where the second dimension is num_outputs.\n",
    "    \"\"\"\n",
    "    num_features = x_tensor.shape[1].value\n",
    "    weights = tf.Variable(tf.random_normal([num_features, num_outputs], stddev=0.1))\n",
    "    biases = tf.Variable(tf.zeros([num_outputs]))\n",
    "    output_layer = tf.add(tf.matmul(x_tensor, weights), biases)\n",
    "    return output_layer\n",
    "\n",
    "\n",
    "\"\"\"\n",
    "DON'T MODIFY ANYTHING IN THIS CELL THAT IS BELOW THIS LINE\n",
    "\"\"\"\n",
    "tests.test_output(output)"
   ]
  },
  {
   "cell_type": "markdown",
   "metadata": {},
   "source": [
    "### Create Convolutional Model\n",
    "Implement the function `conv_net` to create a convolutional neural network model. The function takes in a batch of images, `x`, and outputs logits.  Use the layers you created above to create this model:\n",
    "\n",
    "* Apply 1, 2, or 3 Convolution and Max Pool layers\n",
    "* Apply a Flatten Layer\n",
    "* Apply 1, 2, or 3 Fully Connected Layers\n",
    "* Apply an Output Layer\n",
    "* Return the output\n",
    "* Apply [TensorFlow's Dropout](https://www.tensorflow.org/api_docs/python/tf/nn/dropout) to one or more layers in the model using `keep_prob`. "
   ]
  },
  {
   "cell_type": "code",
   "execution_count": 12,
   "metadata": {
    "collapsed": false
   },
   "outputs": [
    {
     "name": "stdout",
     "output_type": "stream",
     "text": [
      "Neural Network Built!\n"
     ]
    }
   ],
   "source": [
    "def conv_net(x, keep_prob):\n",
    "    \"\"\"\n",
    "    Create a convolutional neural network model\n",
    "    : x: Placeholder tensor that holds image data.\n",
    "    : keep_prob: Placeholder tensor that hold dropout keep probability.\n",
    "    : return: Tensor that represents logits\n",
    "    \"\"\"\n",
    "    # TODO: Apply 1, 2, or 3 Convolution and Max Pool layers\n",
    "    #    Play around with different number of outputs, kernel size and stride\n",
    "    # Function Definition from Above:\n",
    "    #    conv2d_maxpool(x_tensor, conv_num_outputs, conv_ksize, conv_strides, pool_ksize, pool_strides)\n",
    "    x = conv2d_maxpool(x, 8, (4, 4), (1, 1), (2, 2), (2, 2))\n",
    "    x = conv2d_maxpool(x, 16, (4, 4), (1, 1), (2, 2), (2, 2))\n",
    "    x = conv2d_maxpool(x, 32, (4, 4), (1, 1), (2, 2), (2, 2))\n",
    "    \n",
    "    # TODO: Apply a Flatten Layer\n",
    "    # Function Definition from Above:\n",
    "    #   flatten(x_tensor)\n",
    "    x = flatten(x)\n",
    "\n",
    "    # TODO: Apply 1, 2, or 3 Fully Connected Layers\n",
    "    #    Play around with different number of outputs\n",
    "    # Function Definition from Above:\n",
    "    #   fully_conn(x_tensor, num_outputs)\n",
    "    x = fully_conn(x, 1024)\n",
    "    x = tf.nn.dropout(x, keep_prob=keep_prob)\n",
    "    x = fully_conn(x, 1024)\n",
    "    x = tf.nn.dropout(x, keep_prob=keep_prob)\n",
    "        \n",
    "    # TODO: Apply an Output Layer\n",
    "    #    Set this to the number of classes\n",
    "    # Function Definition from Above:\n",
    "    #   output(x_tensor, num_outputs)\n",
    "    x = output(x, 10)\n",
    "    \n",
    "    \n",
    "    # TODO: return output\n",
    "    return x\n",
    "\n",
    "\n",
    "\"\"\"\n",
    "DON'T MODIFY ANYTHING IN THIS CELL THAT IS BELOW THIS LINE\n",
    "\"\"\"\n",
    "\n",
    "##############################\n",
    "## Build the Neural Network ##\n",
    "##############################\n",
    "\n",
    "# Remove previous weights, bias, inputs, etc..\n",
    "tf.reset_default_graph()\n",
    "\n",
    "# Inputs\n",
    "x = neural_net_image_input((32, 32, 3))\n",
    "y = neural_net_label_input(10)\n",
    "keep_prob = neural_net_keep_prob_input()\n",
    "\n",
    "# Model\n",
    "logits = conv_net(x, keep_prob)\n",
    "\n",
    "# Name logits Tensor, so that is can be loaded from disk after training\n",
    "logits = tf.identity(logits, name='logits')\n",
    "\n",
    "# Loss and Optimizer\n",
    "cost = tf.reduce_mean(tf.nn.softmax_cross_entropy_with_logits(logits=logits, labels=y))\n",
    "optimizer = tf.train.AdamOptimizer().minimize(cost)\n",
    "\n",
    "# Accuracy\n",
    "correct_pred = tf.equal(tf.argmax(logits, 1), tf.argmax(y, 1))\n",
    "accuracy = tf.reduce_mean(tf.cast(correct_pred, tf.float32), name='accuracy')\n",
    "\n",
    "tests.test_conv_net(conv_net)"
   ]
  },
  {
   "cell_type": "markdown",
   "metadata": {},
   "source": [
    "## Train the Neural Network\n",
    "### Single Optimization\n",
    "Implement the function `train_neural_network` to do a single optimization.  The optimization should use `optimizer` to optimize in `session` with a `feed_dict` of the following:\n",
    "* `x` for image input\n",
    "* `y` for labels\n",
    "* `keep_prob` for keep probability for dropout\n",
    "\n",
    "This function will be called for each batch, so `tf.global_variables_initializer()` has already been called.\n",
    "\n",
    "Note: Nothing needs to be returned. This function is only optimizing the neural network."
   ]
  },
  {
   "cell_type": "code",
   "execution_count": 13,
   "metadata": {
    "collapsed": false
   },
   "outputs": [
    {
     "name": "stdout",
     "output_type": "stream",
     "text": [
      "Tests Passed\n"
     ]
    }
   ],
   "source": [
    "def train_neural_network(session, optimizer, keep_probability, feature_batch, label_batch):\n",
    "    \"\"\"\n",
    "    Optimize the session on a batch of images and labels\n",
    "    : session: Current TensorFlow session\n",
    "    : optimizer: TensorFlow optimizer function\n",
    "    : keep_probability: keep probability\n",
    "    : feature_batch: Batch of Numpy image data\n",
    "    : label_batch: Batch of Numpy label data\n",
    "    \"\"\"\n",
    "    session.run(optimizer, feed_dict={x:feature_batch, y:label_batch, keep_prob:keep_probability})\n",
    "\n",
    "\n",
    "\"\"\"\n",
    "DON'T MODIFY ANYTHING IN THIS CELL THAT IS BELOW THIS LINE\n",
    "\"\"\"\n",
    "tests.test_train_nn(train_neural_network)"
   ]
  },
  {
   "cell_type": "markdown",
   "metadata": {},
   "source": [
    "### Show Stats\n",
    "Implement the function `print_stats` to print loss and validation accuracy.  Use the global variables `valid_features` and `valid_labels` to calculate validation accuracy.  Use a keep probability of `1.0` to calculate the loss and validation accuracy."
   ]
  },
  {
   "cell_type": "code",
   "execution_count": 14,
   "metadata": {
    "collapsed": false
   },
   "outputs": [],
   "source": [
    "def print_stats(session, feature_batch, label_batch, cost, accuracy):\n",
    "    \"\"\"\n",
    "    Print information about loss and validation accuracy\n",
    "    : session: Current TensorFlow session\n",
    "    : feature_batch: Batch of Numpy image data\n",
    "    : label_batch: Batch of Numpy label data\n",
    "    : cost: TensorFlow cost function\n",
    "    : accuracy: TensorFlow accuracy function\n",
    "    \"\"\"\n",
    "    # TODO: Implement Function\n",
    "    loss = session.run(cost, feed_dict={x:feature_batch, \n",
    "                                        y:label_batch,\n",
    "                                        keep_prob:1.0}) \n",
    "    acc = session.run(accuracy, \n",
    "                feed_dict={x:valid_features, \n",
    "                           y:valid_labels, \n",
    "                           keep_prob:1.0})\n",
    "    print('Loss={0} ValidationAccuracy={1}'.format(loss, acc))"
   ]
  },
  {
   "cell_type": "markdown",
   "metadata": {},
   "source": [
    "### Hyperparameters\n",
    "Tune the following parameters:\n",
    "* Set `epochs` to the number of iterations until the network stops learning or start overfitting\n",
    "* Set `batch_size` to the highest number that your machine has memory for.  Most people set them to common sizes of memory:\n",
    " * 64\n",
    " * 128\n",
    " * 256\n",
    " * ...\n",
    "* Set `keep_probability` to the probability of keeping a node using dropout"
   ]
  },
  {
   "cell_type": "code",
   "execution_count": 15,
   "metadata": {
    "collapsed": true
   },
   "outputs": [],
   "source": [
    "# TODO: Tune Parameters\n",
    "epochs = 25\n",
    "batch_size = 1028\n",
    "keep_probability = 0.9"
   ]
  },
  {
   "cell_type": "markdown",
   "metadata": {},
   "source": [
    "### Train on a Single CIFAR-10 Batch\n",
    "Instead of training the neural network on all the CIFAR-10 batches of data, let's use a single batch. This should save time while you iterate on the model to get a better accuracy.  Once the final validation accuracy is 50% or greater, run the model on all the data in the next section."
   ]
  },
  {
   "cell_type": "code",
   "execution_count": 16,
   "metadata": {
    "collapsed": false
   },
   "outputs": [
    {
     "name": "stdout",
     "output_type": "stream",
     "text": [
      "Checking the Training on a Single Batch...\n",
      "Epoch  1, CIFAR-10 Batch 1:  Loss=2.4336235523223877 ValidationAccuracy=0.11500000208616257\n",
      "Epoch  2, CIFAR-10 Batch 1:  Loss=2.2300772666931152 ValidationAccuracy=0.17820000648498535\n",
      "Epoch  3, CIFAR-10 Batch 1:  Loss=2.137453317642212 ValidationAccuracy=0.24719999730587006\n",
      "Epoch  4, CIFAR-10 Batch 1:  Loss=1.9508464336395264 ValidationAccuracy=0.30059999227523804\n",
      "Epoch  5, CIFAR-10 Batch 1:  Loss=1.7993566989898682 ValidationAccuracy=0.34200000762939453\n",
      "Epoch  6, CIFAR-10 Batch 1:  Loss=1.6973499059677124 ValidationAccuracy=0.3594000041484833\n",
      "Epoch  7, CIFAR-10 Batch 1:  Loss=1.5953599214553833 ValidationAccuracy=0.39640000462532043\n",
      "Epoch  8, CIFAR-10 Batch 1:  Loss=1.5249691009521484 ValidationAccuracy=0.4138000011444092\n",
      "Epoch  9, CIFAR-10 Batch 1:  Loss=1.4514020681381226 ValidationAccuracy=0.42879998683929443\n",
      "Epoch 10, CIFAR-10 Batch 1:  Loss=1.3776603937149048 ValidationAccuracy=0.44699999690055847\n",
      "Epoch 11, CIFAR-10 Batch 1:  Loss=1.3247652053833008 ValidationAccuracy=0.453000009059906\n",
      "Epoch 12, CIFAR-10 Batch 1:  Loss=1.2580405473709106 ValidationAccuracy=0.4634000062942505\n",
      "Epoch 13, CIFAR-10 Batch 1:  Loss=1.1929224729537964 ValidationAccuracy=0.47360000014305115\n",
      "Epoch 14, CIFAR-10 Batch 1:  Loss=1.129188895225525 ValidationAccuracy=0.4860000014305115\n",
      "Epoch 15, CIFAR-10 Batch 1:  Loss=1.066471815109253 ValidationAccuracy=0.490200012922287\n",
      "Epoch 16, CIFAR-10 Batch 1:  Loss=1.0042219161987305 ValidationAccuracy=0.4952000081539154\n",
      "Epoch 17, CIFAR-10 Batch 1:  Loss=0.9470955729484558 ValidationAccuracy=0.5027999877929688\n",
      "Epoch 18, CIFAR-10 Batch 1:  Loss=0.8835367560386658 ValidationAccuracy=0.5041999816894531\n",
      "Epoch 19, CIFAR-10 Batch 1:  Loss=0.8192306756973267 ValidationAccuracy=0.5041999816894531\n",
      "Epoch 20, CIFAR-10 Batch 1:  Loss=0.7541372776031494 ValidationAccuracy=0.5120000243186951\n",
      "Epoch 21, CIFAR-10 Batch 1:  Loss=0.708378255367279 ValidationAccuracy=0.5052000284194946\n",
      "Epoch 22, CIFAR-10 Batch 1:  Loss=0.6674563884735107 ValidationAccuracy=0.5004000067710876\n",
      "Epoch 23, CIFAR-10 Batch 1:  Loss=0.6470476984977722 ValidationAccuracy=0.49160000681877136\n",
      "Epoch 24, CIFAR-10 Batch 1:  Loss=0.6115943789482117 ValidationAccuracy=0.49239999055862427\n",
      "Epoch 25, CIFAR-10 Batch 1:  Loss=0.5955614447593689 ValidationAccuracy=0.49059998989105225\n"
     ]
    }
   ],
   "source": [
    "\"\"\"\n",
    "DON'T MODIFY ANYTHING IN THIS CELL\n",
    "\"\"\"\n",
    "print('Checking the Training on a Single Batch...')\n",
    "with tf.Session() as sess:\n",
    "    # Initializing the variables\n",
    "    sess.run(tf.global_variables_initializer())\n",
    "    \n",
    "    # Training cycle\n",
    "    for epoch in range(epochs):\n",
    "        batch_i = 1\n",
    "        for batch_features, batch_labels in helper.load_preprocess_training_batch(batch_i, batch_size):\n",
    "            train_neural_network(sess, optimizer, keep_probability, batch_features, batch_labels)\n",
    "        print('Epoch {:>2}, CIFAR-10 Batch {}:  '.format(epoch + 1, batch_i), end='')\n",
    "        print_stats(sess, batch_features, batch_labels, cost, accuracy)"
   ]
  },
  {
   "cell_type": "markdown",
   "metadata": {},
   "source": [
    "### Fully Train the Model\n",
    "Now that you got a good accuracy with a single CIFAR-10 batch, try it with all five batches."
   ]
  },
  {
   "cell_type": "code",
   "execution_count": 17,
   "metadata": {
    "collapsed": false,
    "scrolled": false
   },
   "outputs": [
    {
     "name": "stdout",
     "output_type": "stream",
     "text": [
      "Training...\n",
      "Epoch  1, CIFAR-10 Batch 1:  Loss=2.610731840133667 ValidationAccuracy=0.09239999949932098\n",
      "Epoch  1, CIFAR-10 Batch 2:  Loss=2.225111722946167 ValidationAccuracy=0.21080000698566437\n",
      "Epoch  1, CIFAR-10 Batch 3:  Loss=2.0958807468414307 ValidationAccuracy=0.25279998779296875\n",
      "Epoch  1, CIFAR-10 Batch 4:  Loss=1.9369325637817383 ValidationAccuracy=0.2971999943256378\n",
      "Epoch  1, CIFAR-10 Batch 5:  Loss=1.8381361961364746 ValidationAccuracy=0.3253999948501587\n",
      "Epoch  2, CIFAR-10 Batch 1:  Loss=1.7563105821609497 ValidationAccuracy=0.3723999857902527\n",
      "Epoch  2, CIFAR-10 Batch 2:  Loss=1.6540590524673462 ValidationAccuracy=0.4018000066280365\n",
      "Epoch  2, CIFAR-10 Batch 3:  Loss=1.563713788986206 ValidationAccuracy=0.41620001196861267\n",
      "Epoch  2, CIFAR-10 Batch 4:  Loss=1.49265456199646 ValidationAccuracy=0.444599986076355\n",
      "Epoch  2, CIFAR-10 Batch 5:  Loss=1.4539973735809326 ValidationAccuracy=0.4505999982357025\n",
      "Epoch  3, CIFAR-10 Batch 1:  Loss=1.4209462404251099 ValidationAccuracy=0.47360000014305115\n",
      "Epoch  3, CIFAR-10 Batch 2:  Loss=1.4024615287780762 ValidationAccuracy=0.4742000102996826\n",
      "Epoch  3, CIFAR-10 Batch 3:  Loss=1.3430947065353394 ValidationAccuracy=0.4851999878883362\n",
      "Epoch  3, CIFAR-10 Batch 4:  Loss=1.2805087566375732 ValidationAccuracy=0.5009999871253967\n",
      "Epoch  3, CIFAR-10 Batch 5:  Loss=1.2802213430404663 ValidationAccuracy=0.4986000061035156\n",
      "Epoch  4, CIFAR-10 Batch 1:  Loss=1.2865936756134033 ValidationAccuracy=0.5109999775886536\n",
      "Epoch  4, CIFAR-10 Batch 2:  Loss=1.262992262840271 ValidationAccuracy=0.5094000101089478\n",
      "Epoch  4, CIFAR-10 Batch 3:  Loss=1.2228306531906128 ValidationAccuracy=0.5228000283241272\n",
      "Epoch  4, CIFAR-10 Batch 4:  Loss=1.1518559455871582 ValidationAccuracy=0.5353999733924866\n",
      "Epoch  4, CIFAR-10 Batch 5:  Loss=1.1555068492889404 ValidationAccuracy=0.5365999937057495\n",
      "Epoch  5, CIFAR-10 Batch 1:  Loss=1.192336916923523 ValidationAccuracy=0.5332000255584717\n",
      "Epoch  5, CIFAR-10 Batch 2:  Loss=1.182807207107544 ValidationAccuracy=0.5231999754905701\n",
      "Epoch  5, CIFAR-10 Batch 3:  Loss=1.1265149116516113 ValidationAccuracy=0.5479999780654907\n",
      "Epoch  5, CIFAR-10 Batch 4:  Loss=1.0601012706756592 ValidationAccuracy=0.5583999752998352\n",
      "Epoch  5, CIFAR-10 Batch 5:  Loss=1.064751386642456 ValidationAccuracy=0.5577999949455261\n",
      "Epoch  6, CIFAR-10 Batch 1:  Loss=1.1053215265274048 ValidationAccuracy=0.5605999827384949\n",
      "Epoch  6, CIFAR-10 Batch 2:  Loss=1.1058181524276733 ValidationAccuracy=0.553600013256073\n",
      "Epoch  6, CIFAR-10 Batch 3:  Loss=1.0539698600769043 ValidationAccuracy=0.5666000247001648\n",
      "Epoch  6, CIFAR-10 Batch 4:  Loss=0.9803958535194397 ValidationAccuracy=0.5766000151634216\n",
      "Epoch  6, CIFAR-10 Batch 5:  Loss=0.9800159931182861 ValidationAccuracy=0.5699999928474426\n",
      "Epoch  7, CIFAR-10 Batch 1:  Loss=1.0248522758483887 ValidationAccuracy=0.5716000199317932\n",
      "Epoch  7, CIFAR-10 Batch 2:  Loss=1.0255528688430786 ValidationAccuracy=0.5623999834060669\n",
      "Epoch  7, CIFAR-10 Batch 3:  Loss=0.9769882559776306 ValidationAccuracy=0.5788000226020813\n",
      "Epoch  7, CIFAR-10 Batch 4:  Loss=0.9272155165672302 ValidationAccuracy=0.5821999907493591\n",
      "Epoch  7, CIFAR-10 Batch 5:  Loss=0.9080908298492432 ValidationAccuracy=0.5774000287055969\n",
      "Epoch  8, CIFAR-10 Batch 1:  Loss=0.9609003067016602 ValidationAccuracy=0.5771999955177307\n",
      "Epoch  8, CIFAR-10 Batch 2:  Loss=0.9503070712089539 ValidationAccuracy=0.5770000219345093\n",
      "Epoch  8, CIFAR-10 Batch 3:  Loss=0.9335144758224487 ValidationAccuracy=0.578000009059906\n",
      "Epoch  8, CIFAR-10 Batch 4:  Loss=0.8545190691947937 ValidationAccuracy=0.5838000178337097\n",
      "Epoch  8, CIFAR-10 Batch 5:  Loss=0.856761634349823 ValidationAccuracy=0.5835999846458435\n",
      "Epoch  9, CIFAR-10 Batch 1:  Loss=0.880415678024292 ValidationAccuracy=0.5898000001907349\n",
      "Epoch  9, CIFAR-10 Batch 2:  Loss=0.8792101740837097 ValidationAccuracy=0.5879999995231628\n",
      "Epoch  9, CIFAR-10 Batch 3:  Loss=0.8717884421348572 ValidationAccuracy=0.5942000150680542\n",
      "Epoch  9, CIFAR-10 Batch 4:  Loss=0.8142703175544739 ValidationAccuracy=0.5898000001907349\n",
      "Epoch  9, CIFAR-10 Batch 5:  Loss=0.7912113070487976 ValidationAccuracy=0.5996000170707703\n",
      "Epoch 10, CIFAR-10 Batch 1:  Loss=0.8175272941589355 ValidationAccuracy=0.5985999703407288\n",
      "Epoch 10, CIFAR-10 Batch 2:  Loss=0.7992603182792664 ValidationAccuracy=0.6018000245094299\n",
      "Epoch 10, CIFAR-10 Batch 3:  Loss=0.7952165007591248 ValidationAccuracy=0.5996000170707703\n",
      "Epoch 10, CIFAR-10 Batch 4:  Loss=0.7300080060958862 ValidationAccuracy=0.6051999926567078\n",
      "Epoch 10, CIFAR-10 Batch 5:  Loss=0.7273858189582825 ValidationAccuracy=0.59579998254776\n",
      "Epoch 11, CIFAR-10 Batch 1:  Loss=0.7737318277359009 ValidationAccuracy=0.6010000109672546\n",
      "Epoch 11, CIFAR-10 Batch 2:  Loss=0.7476046681404114 ValidationAccuracy=0.6015999913215637\n",
      "Epoch 11, CIFAR-10 Batch 3:  Loss=0.742366373538971 ValidationAccuracy=0.6068000197410583\n",
      "Epoch 11, CIFAR-10 Batch 4:  Loss=0.6737845540046692 ValidationAccuracy=0.6078000068664551\n",
      "Epoch 11, CIFAR-10 Batch 5:  Loss=0.6915209889411926 ValidationAccuracy=0.6000000238418579\n",
      "Epoch 12, CIFAR-10 Batch 1:  Loss=0.7104002833366394 ValidationAccuracy=0.6093999743461609\n",
      "Epoch 12, CIFAR-10 Batch 2:  Loss=0.7098632454872131 ValidationAccuracy=0.6018000245094299\n",
      "Epoch 12, CIFAR-10 Batch 3:  Loss=0.6964941024780273 ValidationAccuracy=0.6086000204086304\n",
      "Epoch 12, CIFAR-10 Batch 4:  Loss=0.6383343935012817 ValidationAccuracy=0.6133999824523926\n",
      "Epoch 12, CIFAR-10 Batch 5:  Loss=0.6272465586662292 ValidationAccuracy=0.6014000177383423\n",
      "Epoch 13, CIFAR-10 Batch 1:  Loss=0.6681503057479858 ValidationAccuracy=0.609000027179718\n",
      "Epoch 13, CIFAR-10 Batch 2:  Loss=0.643162190914154 ValidationAccuracy=0.614799976348877\n",
      "Epoch 13, CIFAR-10 Batch 3:  Loss=0.6914480328559875 ValidationAccuracy=0.6014000177383423\n",
      "Epoch 13, CIFAR-10 Batch 4:  Loss=0.6082695126533508 ValidationAccuracy=0.6097999811172485\n",
      "Epoch 13, CIFAR-10 Batch 5:  Loss=0.6119215488433838 ValidationAccuracy=0.599399983882904\n",
      "Epoch 14, CIFAR-10 Batch 1:  Loss=0.6169822812080383 ValidationAccuracy=0.6144000291824341\n",
      "Epoch 14, CIFAR-10 Batch 2:  Loss=0.634697437286377 ValidationAccuracy=0.6046000123023987\n",
      "Epoch 14, CIFAR-10 Batch 3:  Loss=0.6277682781219482 ValidationAccuracy=0.6047999858856201\n",
      "Epoch 14, CIFAR-10 Batch 4:  Loss=0.6233143210411072 ValidationAccuracy=0.5843999981880188\n",
      "Epoch 14, CIFAR-10 Batch 5:  Loss=0.5760854482650757 ValidationAccuracy=0.6047999858856201\n",
      "Epoch 15, CIFAR-10 Batch 1:  Loss=0.6001383066177368 ValidationAccuracy=0.6086000204086304\n",
      "Epoch 15, CIFAR-10 Batch 2:  Loss=0.582301139831543 ValidationAccuracy=0.6128000020980835\n",
      "Epoch 15, CIFAR-10 Batch 3:  Loss=0.6246742606163025 ValidationAccuracy=0.5938000082969666\n",
      "Epoch 15, CIFAR-10 Batch 4:  Loss=0.5697851181030273 ValidationAccuracy=0.5964000225067139\n",
      "Epoch 15, CIFAR-10 Batch 5:  Loss=0.5525320172309875 ValidationAccuracy=0.5917999744415283\n",
      "Epoch 16, CIFAR-10 Batch 1:  Loss=0.5372671484947205 ValidationAccuracy=0.6129999756813049\n",
      "Epoch 16, CIFAR-10 Batch 2:  Loss=0.5571612119674683 ValidationAccuracy=0.6074000000953674\n",
      "Epoch 16, CIFAR-10 Batch 3:  Loss=0.508861243724823 ValidationAccuracy=0.6136000156402588\n",
      "Epoch 16, CIFAR-10 Batch 4:  Loss=0.4815189242362976 ValidationAccuracy=0.6173999905586243\n",
      "Epoch 16, CIFAR-10 Batch 5:  Loss=0.478668212890625 ValidationAccuracy=0.6000000238418579\n",
      "Epoch 17, CIFAR-10 Batch 1:  Loss=0.4835456907749176 ValidationAccuracy=0.618399977684021\n",
      "Epoch 17, CIFAR-10 Batch 2:  Loss=0.5012403726577759 ValidationAccuracy=0.6240000128746033\n",
      "Epoch 17, CIFAR-10 Batch 3:  Loss=0.45507022738456726 ValidationAccuracy=0.6161999702453613\n",
      "Epoch 17, CIFAR-10 Batch 4:  Loss=0.44542473554611206 ValidationAccuracy=0.6218000054359436\n",
      "Epoch 17, CIFAR-10 Batch 5:  Loss=0.4244081974029541 ValidationAccuracy=0.6140000224113464\n",
      "Epoch 18, CIFAR-10 Batch 1:  Loss=0.42670583724975586 ValidationAccuracy=0.6248000264167786\n",
      "Epoch 18, CIFAR-10 Batch 2:  Loss=0.4365934431552887 ValidationAccuracy=0.6227999925613403\n",
      "Epoch 18, CIFAR-10 Batch 3:  Loss=0.4172677993774414 ValidationAccuracy=0.623199999332428\n",
      "Epoch 18, CIFAR-10 Batch 4:  Loss=0.3900534212589264 ValidationAccuracy=0.628000020980835\n",
      "Epoch 18, CIFAR-10 Batch 5:  Loss=0.38241174817085266 ValidationAccuracy=0.6212000250816345\n",
      "Epoch 19, CIFAR-10 Batch 1:  Loss=0.40620192885398865 ValidationAccuracy=0.6197999715805054\n",
      "Epoch 19, CIFAR-10 Batch 2:  Loss=0.41211843490600586 ValidationAccuracy=0.6159999966621399\n",
      "Epoch 19, CIFAR-10 Batch 3:  Loss=0.397146075963974 ValidationAccuracy=0.6227999925613403\n",
      "Epoch 19, CIFAR-10 Batch 4:  Loss=0.40232256054878235 ValidationAccuracy=0.6197999715805054\n",
      "Epoch 19, CIFAR-10 Batch 5:  Loss=0.35611242055892944 ValidationAccuracy=0.6190000176429749\n",
      "Epoch 20, CIFAR-10 Batch 1:  Loss=0.4186358153820038 ValidationAccuracy=0.6096000075340271\n",
      "Epoch 20, CIFAR-10 Batch 2:  Loss=0.432722806930542 ValidationAccuracy=0.6033999919891357\n",
      "Epoch 20, CIFAR-10 Batch 3:  Loss=0.4271557927131653 ValidationAccuracy=0.6078000068664551\n",
      "Epoch 20, CIFAR-10 Batch 4:  Loss=0.4317183494567871 ValidationAccuracy=0.5965999960899353\n",
      "Epoch 20, CIFAR-10 Batch 5:  Loss=0.37969639897346497 ValidationAccuracy=0.6093999743461609\n",
      "Epoch 21, CIFAR-10 Batch 1:  Loss=0.3973727524280548 ValidationAccuracy=0.6227999925613403\n",
      "Epoch 21, CIFAR-10 Batch 2:  Loss=0.33712875843048096 ValidationAccuracy=0.6281999945640564\n",
      "Epoch 21, CIFAR-10 Batch 3:  Loss=0.39366039633750916 ValidationAccuracy=0.6055999994277954\n",
      "Epoch 21, CIFAR-10 Batch 4:  Loss=0.3806074559688568 ValidationAccuracy=0.6050000190734863\n",
      "Epoch 21, CIFAR-10 Batch 5:  Loss=0.35165220499038696 ValidationAccuracy=0.607200026512146\n",
      "Epoch 22, CIFAR-10 Batch 1:  Loss=0.36890310049057007 ValidationAccuracy=0.6244000196456909\n",
      "Epoch 22, CIFAR-10 Batch 2:  Loss=0.3545948266983032 ValidationAccuracy=0.6119999885559082\n",
      "Epoch 22, CIFAR-10 Batch 3:  Loss=0.33049389719963074 ValidationAccuracy=0.6195999979972839\n",
      "Epoch 22, CIFAR-10 Batch 4:  Loss=0.30577680468559265 ValidationAccuracy=0.6186000108718872\n",
      "Epoch 22, CIFAR-10 Batch 5:  Loss=0.27418839931488037 ValidationAccuracy=0.6248000264167786\n",
      "Epoch 23, CIFAR-10 Batch 1:  Loss=0.34405162930488586 ValidationAccuracy=0.6209999918937683\n",
      "Epoch 23, CIFAR-10 Batch 2:  Loss=0.29258471727371216 ValidationAccuracy=0.6218000054359436\n",
      "Epoch 23, CIFAR-10 Batch 3:  Loss=0.2837281823158264 ValidationAccuracy=0.618399977684021\n",
      "Epoch 23, CIFAR-10 Batch 4:  Loss=0.2870286703109741 ValidationAccuracy=0.6164000034332275\n",
      "Epoch 23, CIFAR-10 Batch 5:  Loss=0.24891796708106995 ValidationAccuracy=0.6320000290870667\n",
      "Epoch 24, CIFAR-10 Batch 1:  Loss=0.2781983017921448 ValidationAccuracy=0.6276000142097473\n",
      "Epoch 24, CIFAR-10 Batch 2:  Loss=0.24580363929271698 ValidationAccuracy=0.6226000189781189\n",
      "Epoch 24, CIFAR-10 Batch 3:  Loss=0.25059476494789124 ValidationAccuracy=0.6266000270843506\n",
      "Epoch 24, CIFAR-10 Batch 4:  Loss=0.25346803665161133 ValidationAccuracy=0.6164000034332275\n",
      "Epoch 24, CIFAR-10 Batch 5:  Loss=0.23225615918636322 ValidationAccuracy=0.6205999851226807\n",
      "Epoch 25, CIFAR-10 Batch 1:  Loss=0.2457135170698166 ValidationAccuracy=0.6272000074386597\n",
      "Epoch 25, CIFAR-10 Batch 2:  Loss=0.2165840119123459 ValidationAccuracy=0.6227999925613403\n",
      "Epoch 25, CIFAR-10 Batch 3:  Loss=0.22492274641990662 ValidationAccuracy=0.6272000074386597\n",
      "Epoch 25, CIFAR-10 Batch 4:  Loss=0.21505296230316162 ValidationAccuracy=0.6200000047683716\n",
      "Epoch 25, CIFAR-10 Batch 5:  Loss=0.22837083041667938 ValidationAccuracy=0.6104000210762024\n"
     ]
    }
   ],
   "source": [
    "\"\"\"\n",
    "DON'T MODIFY ANYTHING IN THIS CELL\n",
    "\"\"\"\n",
    "save_model_path = './image_classification'\n",
    "\n",
    "print('Training...')\n",
    "with tf.Session() as sess:\n",
    "    # Initializing the variables\n",
    "    sess.run(tf.global_variables_initializer())\n",
    "    \n",
    "    # Training cycle\n",
    "    for epoch in range(epochs):\n",
    "        # Loop over all batches\n",
    "        n_batches = 5\n",
    "        for batch_i in range(1, n_batches + 1):\n",
    "            for batch_features, batch_labels in helper.load_preprocess_training_batch(batch_i, batch_size):\n",
    "                train_neural_network(sess, optimizer, keep_probability, batch_features, batch_labels)\n",
    "            print('Epoch {:>2}, CIFAR-10 Batch {}:  '.format(epoch + 1, batch_i), end='')\n",
    "            print_stats(sess, batch_features, batch_labels, cost, accuracy)\n",
    "            \n",
    "    # Save Model\n",
    "    saver = tf.train.Saver()\n",
    "    save_path = saver.save(sess, save_model_path)"
   ]
  },
  {
   "cell_type": "markdown",
   "metadata": {},
   "source": [
    "# Checkpoint\n",
    "The model has been saved to disk.\n",
    "## Test Model\n",
    "Test your model against the test dataset.  This will be your final accuracy. You should have an accuracy greater than 50%. If you don't, keep tweaking the model architecture and parameters."
   ]
  },
  {
   "cell_type": "code",
   "execution_count": 18,
   "metadata": {
    "collapsed": false
   },
   "outputs": [
    {
     "name": "stdout",
     "output_type": "stream",
     "text": [
      "INFO:tensorflow:Restoring parameters from ./image_classification\n",
      "Testing Accuracy: 0.6119483411312103\n",
      "\n"
     ]
    },
    {
     "data": {
      "image/png": "[encoded data removed]",
      "text/plain": [
       "<matplotlib.figure.Figure at 0x1170b0128>"
      ]
     },
     "metadata": {
      "image/png": {
       "height": 319,
       "width": 355
      }
     },
     "output_type": "display_data"
    }
   ],
   "source": [
    "\"\"\"\n",
    "DON'T MODIFY ANYTHING IN THIS CELL\n",
    "\"\"\"\n",
    "%matplotlib inline\n",
    "%config InlineBackend.figure_format = 'retina'\n",
    "\n",
    "import tensorflow as tf\n",
    "import pickle\n",
    "import helper\n",
    "import random\n",
    "\n",
    "# Set batch size if not already set\n",
    "try:\n",
    "    if batch_size:\n",
    "        pass\n",
    "except NameError:\n",
    "    batch_size = 64\n",
    "\n",
    "save_model_path = './image_classification'\n",
    "n_samples = 4\n",
    "top_n_predictions = 3\n",
    "\n",
    "def test_model():\n",
    "    \"\"\"\n",
    "    Test the saved model against the test dataset\n",
    "    \"\"\"\n",
    "\n",
    "    test_features, test_labels = pickle.load(open('preprocess_training.p', mode='rb'))\n",
    "    loaded_graph = tf.Graph()\n",
    "\n",
    "    with tf.Session(graph=loaded_graph) as sess:\n",
    "        # Load model\n",
    "        loader = tf.train.import_meta_graph(save_model_path + '.meta')\n",
    "        loader.restore(sess, save_model_path)\n",
    "\n",
    "        # Get Tensors from loaded model\n",
    "        loaded_x = loaded_graph.get_tensor_by_name('x:0')\n",
    "        loaded_y = loaded_graph.get_tensor_by_name('y:0')\n",
    "        loaded_keep_prob = loaded_graph.get_tensor_by_name('keep_prob:0')\n",
    "        loaded_logits = loaded_graph.get_tensor_by_name('logits:0')\n",
    "        loaded_acc = loaded_graph.get_tensor_by_name('accuracy:0')\n",
    "        \n",
    "        # Get accuracy in batches for memory limitations\n",
    "        test_batch_acc_total = 0\n",
    "        test_batch_count = 0\n",
    "        \n",
    "        for train_feature_batch, train_label_batch in helper.batch_features_labels(test_features, test_labels, batch_size):\n",
    "            test_batch_acc_total += sess.run(\n",
    "                loaded_acc,\n",
    "                feed_dict={loaded_x: train_feature_batch, loaded_y: train_label_batch, loaded_keep_prob: 1.0})\n",
    "            test_batch_count += 1\n",
    "\n",
    "        print('Testing Accuracy: {}\\n'.format(test_batch_acc_total/test_batch_count))\n",
    "\n",
    "        # Print Random Samples\n",
    "        random_test_features, random_test_labels = tuple(zip(*random.sample(list(zip(test_features, test_labels)), n_samples)))\n",
    "        random_test_predictions = sess.run(\n",
    "            tf.nn.top_k(tf.nn.softmax(loaded_logits), top_n_predictions),\n",
    "            feed_dict={loaded_x: random_test_features, loaded_y: random_test_labels, loaded_keep_prob: 1.0})\n",
    "        helper.display_image_predictions(random_test_features, random_test_labels, random_test_predictions)\n",
    "\n",
    "\n",
    "test_model()"
   ]
  },
  {
   "cell_type": "markdown",
   "metadata": {},
   "source": [
    "## Why 50-80% Accuracy?\n",
    "You might be wondering why you can't get an accuracy any higher. First things first, 50% isn't bad for a simple CNN.  Pure guessing would get you 10% accuracy. That's because there are many more techniques that can be applied to your model and we recemmond that once you are done with this project, you explore!\n",
    "\n",
    "## Submitting This Project\n",
    "When submitting this project, make sure to run all the cells before saving the notebook.  Save the notebook file as \"image_classification.ipynb\" and save it as a HTML file under \"File\" -> \"Download as\".  Include the \"helper.py\" and \"problem_unittests.py\" files in your submission."
   ]
  }
 ],
 "metadata": {
  "kernelspec": {
   "display_name": "Python 3",
   "language": "python",
   "name": "python3"
  },
  "language_info": {
   "codemirror_mode": {
    "name": "ipython",
    "version": 3
   },
   "file_extension": ".py",
   "mimetype": "text/x-python",
   "name": "python",
   "nbconvert_exporter": "python",
   "pygments_lexer": "ipython3",
   "version": "3.6.1"
  }
 },
 "nbformat": 4,
 "nbformat_minor": 0
}
